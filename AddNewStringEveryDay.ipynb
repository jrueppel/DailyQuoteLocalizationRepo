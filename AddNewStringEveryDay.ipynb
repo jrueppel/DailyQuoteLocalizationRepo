{
 "cells": [
  {
   "cell_type": "code",
   "execution_count": 1,
   "id": "10b148fd",
   "metadata": {},
   "outputs": [
    {
     "name": "stdout",
     "output_type": "stream",
     "text": [
      "[main 8e73616] Add quote for 2025-06-07\n",
      " 1 file changed, 1 insertion(+)\n",
      "Daily quote added and pushed.\n"
     ]
    },
    {
     "name": "stderr",
     "output_type": "stream",
     "text": [
      "To https://github.com/jrueppel/DailyQuoteLocalizationRepo.git\n",
      "   8112613..8e73616  main -> main\n"
     ]
    }
   ],
   "source": [
    "import requests\n",
    "from datetime import datetime\n",
    "import subprocess\n",
    "import os\n",
    "import re\n",
    "\n",
    "# CONFIG\n",
    "REPO_DIR = \"/Users/jeffrueppel/Documents/GitHub/DailyQuoteLocalizationRepo\"  # Replace this\n",
    "STRINGS_FILE = os.path.join(REPO_DIR, \"daily_sentences.strings\")\n",
    "ZENQUOTES_API_KEY = \"your_api_key_here\"  # Replace with your actual key\n",
    "ZENQUOTES_URL = f\"https://zenquotes.io/api/quotes/{ZENQUOTES_API_KEY}\"\n",
    "\n",
    "def sanitize_author(author):\n",
    "    # Replace spaces with underscores and strip non-alphanumerics\n",
    "    return re.sub(r'\\W+', '', author.replace(\" \", \"_\"))\n",
    "\n",
    "def fetch_quote_data():\n",
    "    response = requests.get(ZENQUOTES_URL)\n",
    "    if response.status_code == 200:\n",
    "        data = response.json()\n",
    "        if isinstance(data, list) and len(data) > 0:\n",
    "            quote = data[0].get(\"q\", \"\").strip()\n",
    "            author = data[0].get(\"a\", \"Unknown\").strip()\n",
    "            return quote, author\n",
    "        else:\n",
    "            raise Exception(\"Empty quote data.\")\n",
    "    else:\n",
    "        raise Exception(f\"Failed to fetch quote: {response.status_code} - {response.text}\")\n",
    "\n",
    "def append_to_file(quote, author):\n",
    "    date_str = datetime.now().strftime(\"%Y-%m-%d\")\n",
    "    author_key = sanitize_author(author)\n",
    "    key = f\"{date_str}_{author_key}\"\n",
    "    with open(STRINGS_FILE, \"a\") as f:\n",
    "        f.write(f'\"{key}\" = \"{quote}\";\\n')\n",
    "\n",
    "\n",
    "def git_commit_push():\n",
    "    subprocess.run([\"git\", \"add\", \".\"], cwd=REPO_DIR)\n",
    "    commit_msg = f\"Add quote for {datetime.now().strftime('%Y-%m-%d')}\"\n",
    "    subprocess.run([\"git\", \"commit\", \"-m\", commit_msg], cwd=REPO_DIR)\n",
    "    subprocess.run([\"git\", \"push\"], cwd=REPO_DIR)\n",
    "\n",
    "def main():\n",
    "    try:\n",
    "        quote, author = fetch_quote_data()\n",
    "        append_to_file(quote, author)\n",
    "        git_commit_push()\n",
    "        print(\"Daily quote added and pushed.\")\n",
    "    except Exception as e:\n",
    "        print(f\"Error: {e}\")\n",
    "\n",
    "if __name__ == \"__main__\":\n",
    "    main()\n"
   ]
  }
 ],
 "metadata": {
  "kernelspec": {
   "display_name": "base",
   "language": "python",
   "name": "python3"
  },
  "language_info": {
   "codemirror_mode": {
    "name": "ipython",
    "version": 3
   },
   "file_extension": ".py",
   "mimetype": "text/x-python",
   "name": "python",
   "nbconvert_exporter": "python",
   "pygments_lexer": "ipython3",
   "version": "3.12.9"
  }
 },
 "nbformat": 4,
 "nbformat_minor": 5
}
